{
 "cells": [
  {
   "cell_type": "code",
   "execution_count": 1,
   "id": "e0dd5390",
   "metadata": {},
   "outputs": [],
   "source": [
    "import numpy as np\n",
    "import torch"
   ]
  },
  {
   "cell_type": "code",
   "execution_count": 2,
   "id": "5db6119c",
   "metadata": {},
   "outputs": [
    {
     "name": "stdout",
     "output_type": "stream",
     "text": [
      "Type: torch.FloatTensor\n",
      "Size: torch.Size([2, 3])\n",
      "Values: \n",
      "tensor([[ 0.4528, -0.5342,  0.5048],\n",
      "        [ 1.5629, -1.0728, -0.0617]])\n"
     ]
    }
   ],
   "source": [
    "# Creating a random tensor\n",
    "x = torch.randn(2, 3) # normal distribution (rand(2,3) -> uniform distribution)\n",
    "print(f\"Type: {x.type()}\")\n",
    "print(f\"Size: {x.shape}\")\n",
    "print(f\"Values: \\n{x}\")"
   ]
  },
  {
   "cell_type": "code",
   "execution_count": null,
   "id": "1634a1c0",
   "metadata": {},
   "outputs": [],
   "source": []
  }
 ],
 "metadata": {
  "kernelspec": {
   "display_name": "Python 3",
   "language": "python",
   "name": "python3"
  },
  "language_info": {
   "codemirror_mode": {
    "name": "ipython",
    "version": 3
   },
   "file_extension": ".py",
   "mimetype": "text/x-python",
   "name": "python",
   "nbconvert_exporter": "python",
   "pygments_lexer": "ipython3",
   "version": "3.8.8"
  }
 },
 "nbformat": 4,
 "nbformat_minor": 5
}
